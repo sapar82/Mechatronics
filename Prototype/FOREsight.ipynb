{
 "cells": [
  {
   "cell_type": "code",
   "execution_count": 6,
   "id": "396e40ca",
   "metadata": {},
   "outputs": [],
   "source": [
    "import PySimpleGUI as sg\n",
    "from pathlib import Path"
   ]
  },
  {
   "cell_type": "code",
   "execution_count": 7,
   "id": "62d6f719",
   "metadata": {},
   "outputs": [],
   "source": [
    "sg.theme(\"BlueMono\")\n",
    "\n",
    "menu_layout = [\n",
    "    ['File', ['Open', 'Save', '---', 'Exit']],\n",
    "    ['Tools', ['Predictions', 'Graphs']]\n",
    "]\n",
    "\n",
    "layout = [  \n",
    "    [sg.Menu(menu_layout)],\n",
    "    [sg.Text('LIBMON', key = '-DOCNAME-')],\n",
    "    [sg.Multiline(no_scrollbar = True, size = (30, 10), key = '-TEXTBOX-')],\n",
    "     ]\n",
    "\n",
    "# Create the Window\n",
    "window = sg.Window('FOREsight', layout)\n",
    "\n",
    "# Event Loop to process \"events\" and get the \"values\" of the inputs\n",
    "while True:\n",
    "    event, values = window.read()\n",
    "    if event == sg.WIN_CLOSED or event == 'Cancel': # if user closes window or clicks cancel\n",
    "        break\n",
    "        \n",
    "    if event == 'Open':\n",
    "        file_path = sg.popup_get_file('Insert LIBMON file', no_window=True)\n",
    "        if file_path:\n",
    "            file = Path(file_path)\n",
    "            print(file.read_text())\n",
    "            window['-TEXTBOX-'].update(file.read_text())\n",
    "            \n",
    "        \n",
    "        \n",
    "    if event == 'Graphs':\n",
    "        # ALEXIS \n",
    "        sg.popup('popup')\n",
    "        \n",
    "    if event == 'Predictions':\n",
    "        # IULIA\n",
    "        \n",
    "        full_text = values['-TEXTBOX-']\n",
    "        sg.popup(full_text)\n",
    "    \n",
    "\n",
    "    \n",
    "    \n",
    "window.close()"
   ]
  },
  {
   "cell_type": "code",
   "execution_count": null,
   "id": "04f1c8fb",
   "metadata": {},
   "outputs": [],
   "source": []
  },
  {
   "cell_type": "code",
   "execution_count": null,
   "id": "3cfc706b",
   "metadata": {},
   "outputs": [],
   "source": []
  }
 ],
 "metadata": {
  "kernelspec": {
   "display_name": "Python 3 (ipykernel)",
   "language": "python",
   "name": "python3"
  },
  "language_info": {
   "codemirror_mode": {
    "name": "ipython",
    "version": 3
   },
   "file_extension": ".py",
   "mimetype": "text/x-python",
   "name": "python",
   "nbconvert_exporter": "python",
   "pygments_lexer": "ipython3",
   "version": "3.8.13"
  }
 },
 "nbformat": 4,
 "nbformat_minor": 5
}
