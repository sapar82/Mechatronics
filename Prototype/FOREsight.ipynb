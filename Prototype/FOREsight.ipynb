{
 "cells": [
  {
   "cell_type": "code",
   "execution_count": 2,
   "id": "61c08d96",
   "metadata": {},
   "outputs": [],
   "source": [
    "import PySimpleGUI as sg"
   ]
  },
  {
   "cell_type": "code",
   "execution_count": 20,
   "id": "0e59be8b",
   "metadata": {},
   "outputs": [
    {
     "ename": "NameError",
     "evalue": "name 'menu_layout' is not defined",
     "output_type": "error",
     "traceback": [
      "\u001b[1;31m---------------------------------------------------------------------------\u001b[0m",
      "\u001b[1;31mNameError\u001b[0m                                 Traceback (most recent call last)",
      "Input \u001b[1;32mIn [20]\u001b[0m, in \u001b[0;36m<cell line: 4>\u001b[1;34m()\u001b[0m\n\u001b[0;32m      1\u001b[0m sg\u001b[38;5;241m.\u001b[39mtheme(\u001b[38;5;124m\"\u001b[39m\u001b[38;5;124mBlueMono\u001b[39m\u001b[38;5;124m\"\u001b[39m)\n\u001b[0;32m      3\u001b[0m layout \u001b[38;5;241m=\u001b[39m [  \n\u001b[1;32m----> 4\u001b[0m     [sg\u001b[38;5;241m.\u001b[39mMenu(\u001b[43mmenu_layout\u001b[49m)],\n\u001b[0;32m      5\u001b[0m     [sg\u001b[38;5;241m.\u001b[39mText(\u001b[38;5;124m'\u001b[39m\u001b[38;5;124mInsert LibMon text file\u001b[39m\u001b[38;5;124m'\u001b[39m)],\n\u001b[0;32m      6\u001b[0m     [sg\u001b[38;5;241m.\u001b[39mText(size\u001b[38;5;241m=\u001b[39m(\u001b[38;5;241m40\u001b[39m,\u001b[38;5;241m1\u001b[39m), key\u001b[38;5;241m=\u001b[39m\u001b[38;5;124m'\u001b[39m\u001b[38;5;124m-INPUT-\u001b[39m\u001b[38;5;124m'\u001b[39m)],\n\u001b[0;32m      7\u001b[0m     [sg\u001b[38;5;241m.\u001b[39mText(\u001b[38;5;124m'\u001b[39m\u001b[38;5;124mEnter something on Row 2\u001b[39m\u001b[38;5;124m'\u001b[39m), sg\u001b[38;5;241m.\u001b[39mInputText()],\n\u001b[0;32m      8\u001b[0m     [sg\u001b[38;5;241m.\u001b[39mText(size\u001b[38;5;241m=\u001b[39m(\u001b[38;5;241m40\u001b[39m,\u001b[38;5;241m1\u001b[39m), key\u001b[38;5;241m=\u001b[39m\u001b[38;5;124m'\u001b[39m\u001b[38;5;124m-INPUT-\u001b[39m\u001b[38;5;124m'\u001b[39m)],\n\u001b[0;32m      9\u001b[0m     [sg\u001b[38;5;241m.\u001b[39mButton(\u001b[38;5;124m'\u001b[39m\u001b[38;5;124mOk\u001b[39m\u001b[38;5;124m'\u001b[39m), sg\u001b[38;5;241m.\u001b[39mButton(\u001b[38;5;124m'\u001b[39m\u001b[38;5;124mCancel\u001b[39m\u001b[38;5;124m'\u001b[39m)] ]\n\u001b[0;32m     11\u001b[0m \u001b[38;5;66;03m# Create the Window\u001b[39;00m\n\u001b[0;32m     12\u001b[0m window \u001b[38;5;241m=\u001b[39m sg\u001b[38;5;241m.\u001b[39mWindow(\u001b[38;5;124m'\u001b[39m\u001b[38;5;124mFOREsight\u001b[39m\u001b[38;5;124m'\u001b[39m, layout, font\u001b[38;5;241m=\u001b[39m\u001b[38;5;241m1\u001b[39m)\n",
      "\u001b[1;31mNameError\u001b[0m: name 'menu_layout' is not defined"
     ]
    }
   ],
   "source": [
    "sg.theme(\"BlueMono\")\n",
    "\n",
    "layout = [ \n",
    "    [sg.Text('Insert LibMon text file')],\n",
    "    [sg.Text(size=(40,1), key='-INPUT-')],\n",
    "    [sg.Text('Enter something on Row 2'), sg.InputText()],\n",
    "    [sg.Text(size=(40,1), key='-INPUT-')],\n",
    "    [sg.Button('Ok'), sg.Button('Cancel')] ]\n",
    "\n",
    "# Create the Window\n",
    "window = sg.Window('FOREsight', layout, font=1)\n",
    "# Event Loop to process \"events\" and get the \"values\" of the inputs\n",
    "while True:\n",
    "    event, values = window.read()\n",
    "    if event == sg.WIN_CLOSED or event == 'Cancel': # if user closes window or clicks cancel\n",
    "        break\n",
    "    print('You entered ', values[0])\n",
    "\n",
    "    \n",
    "    \n",
    "window.close()"
   ]
  },
  {
   "cell_type": "code",
   "execution_count": 34,
   "id": "a04e0182",
   "metadata": {},
   "outputs": [],
   "source": [
    "sg.theme(\"BlueMono\")\n",
    "\n",
    "menu_layout = [\n",
    "    ['File', ['Open', 'Save', '---', 'Exit']],\n",
    "    ['Tools', ['Predictions', 'Graphs']]\n",
    "]\n",
    "\n",
    "layout = [  \n",
    "    [sg.Menu(menu_layout)],\n",
    "    [sg.Text('Untitled', key = '-DOCNAME-')],\n",
    "    [sg.Multiline(no_scrollbar = True, size = (30, 10), key = '-TEXT-')],\n",
    "     ]\n",
    "\n",
    "# Create the Window\n",
    "window = sg.Window('FOREsight', layout)\n",
    "\n",
    "# Event Loop to process \"events\" and get the \"values\" of the inputs\n",
    "while True:\n",
    "    event, values = window.read()\n",
    "    if event == sg.WIN_CLOSED or event == 'Cancel': # if user closes window or clicks cancel\n",
    "        break\n",
    "    if event == 'Graphs':\n",
    "        sg.popup('popup')\n",
    "\n",
    "    \n",
    "    \n",
    "window.close()"
   ]
  },
  {
   "cell_type": "code",
   "execution_count": null,
   "id": "533cbd9e",
   "metadata": {},
   "outputs": [],
   "source": []
  }
 ],
 "metadata": {
  "kernelspec": {
   "display_name": "Python 3 (ipykernel)",
   "language": "python",
   "name": "python3"
  },
  "language_info": {
   "codemirror_mode": {
    "name": "ipython",
    "version": 3
   },
   "file_extension": ".py",
   "mimetype": "text/x-python",
   "name": "python",
   "nbconvert_exporter": "python",
   "pygments_lexer": "ipython3",
   "version": "3.8.13"
  }
 },
 "nbformat": 4,
 "nbformat_minor": 5
}
